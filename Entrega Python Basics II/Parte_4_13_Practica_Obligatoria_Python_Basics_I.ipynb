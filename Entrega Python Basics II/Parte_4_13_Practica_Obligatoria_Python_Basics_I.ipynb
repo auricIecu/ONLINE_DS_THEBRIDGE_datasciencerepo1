{
  "cells": [
    {
      "cell_type": "markdown",
      "metadata": {
        "id": "BNCAebJANPxq"
      },
      "source": [
        "![TheBridge_logo_RGB_color.jpg](attachment:TheBridge_logo_RGB_color.jpg)"
      ]
    },
    {
      "cell_type": "markdown",
      "metadata": {
        "id": "A9eDZvZaNPxs"
      },
      "source": [
        "![imagen](./img/ejercicios.png)"
      ]
    },
    {
      "cell_type": "markdown",
      "metadata": {
        "id": "59zPhBxXNPxs"
      },
      "source": [
        "## PRACTICA OBLIGATORIA: PYTHON"
      ]
    },
    {
      "cell_type": "markdown",
      "metadata": {
        "id": "mv2kb1GMNPxs"
      },
      "source": [
        "* La práctica obligatoria de esta unidad consiste en dos ejercicios de programación libre a completar.   \n",
        "* Recuerda que debes subirla a tu repositorio personal antes de la sesión en vivo para que puntúe adecuadamente.  \n",
        "* Recuerda también que no es necesario que esté perfecta, sólo es necesario que se vea el esfuerzo.\n",
        "* Esta práctica se resolverá en la sesión en vivo correspondiente y la solución se publicará en el repo del curso."
      ]
    },
    {
      "cell_type": "markdown",
      "metadata": {
        "id": "Kl9JzST2NPxt"
      },
      "source": [
        "![ejercicio.png](./img/ejercicio.png)\n",
        "## PARTE I\n",
        "\n",
        "En este ejercicio debes simular un chatbot al que le haremos pedidos de pizzas.\n",
        "\n",
        "1. El chatbot tiene que saludar con un: \"Buenas tardes, bienvenido al servicio de pedido online, el precio de nuestra pizzas es de 8,95 para la familiar o de 9,90 para la mediana ¿Cuántas pizzas  familiares desea?\"\n",
        "2. El ususario tiene que introducir un número de pizzas en una variable llamada 'pizz_familiar'\n",
        "3. El chatbot debe responder: \"Estupendo, ¿cuántas pizzas medianas desea?\" y guardar el número de pizzas medianas en otra variable 'pizz_mediana'\n",
        "4. Además debe responder del chatbot: \"Estupendo, se están preparando 'pizz' pizzas familiares y 'pizz_mediana' pizzas medianas. Digame su dirección\"\n",
        "5. El ususario tiene que introducir una direccion en formato String en otra variable llamada 'direcc'\n",
        "6. El programa debe calcular el monto total\n",
        "7. Respuesta final del chatbot: \"Le mandaremos las '(número total de pizzas)' pizzas a la dirección 'direcc'. Serán <precio total a pagar en euros>. Muchas gracias por su pedido.\"\n",
        "         \n"
      ]
    },
    {
      "cell_type": "code",
      "execution_count": 9,
      "metadata": {
        "id": "qkKibyt-NPxt",
        "outputId": "9fe5be88-d825-4d16-8108-9b7a57171004",
        "colab": {
          "base_uri": "https://localhost:8080/"
        }
      },
      "outputs": [
        {
          "output_type": "stream",
          "name": "stdout",
          "text": [
            "Buenas tardes, bienvenido al servicio de pedido online, el precio de nuestra pizzas es de 8,95 para la familiar o de 9,90 para la mediana ¿Cuántas pizzas familiares desea?1\n",
            "Estupendo, ¿cuántas pizzas medianas desea?2\n",
            "Estupendo, se están preparando 1 pizzas familiares y 2 pizzas medianas. Digame su direcciónLa v\n",
            "Le mandaremos las 3, pizzas a la dirección, La v. Serán, 28.75 Euros. Muchas gracias por su pedido.\n"
          ]
        }
      ],
      "source": [
        "pizz_familiar = int(input(\"Buenas tardes, bienvenido al servicio de pedido online, el precio de nuestra pizzas es de 8,95 para la familiar o de 9,90 para la mediana ¿Cuántas pizzas familiares desea?\"))\n",
        "pizz_mediana = int(input(\"Estupendo, ¿cuántas pizzas medianas desea?\"))\n",
        "direcc = input(f\"Estupendo, se están preparando {pizz_familiar} pizzas familiares y {pizz_mediana} pizzas medianas. Digame su dirección\")\n",
        "total_a_pagar = round(pizz_familiar * 8.95 + pizz_mediana * 9.90, 2)\n",
        "print(f\"Le mandaremos las {pizz_familiar + pizz_mediana}, pizzas a la dirección, {direcc}. Serán, {total_a_pagar} Euros. Muchas gracias por su pedido.\")"
      ]
    },
    {
      "cell_type": "markdown",
      "metadata": {
        "id": "f0oqoGDGNPxt"
      },
      "source": [
        "![ejercicio.png](./img/ejercicio.png)\n",
        "## Parte II\n",
        "\n",
        "Crea un programa que realice las siguientes acciones:\n",
        "\n",
        "1. Solicite al usuario que introduzca 3 números enteros separados por comas (por ejemplo: 1,2,3).\n",
        "2. Convierta esa entrada en una lista de números enteros.\n",
        "3. Utilizando funciones built-in, determine el número máximo, el número mínimo y la suma total de los números introducidos.\n",
        "4. Determine la verdad o falsedad de la siguiente afirmación: \"El número máximo menos el número mínimo es igual a la suma total dividida por 5\".\n",
        "5. Muestre los resultados utilizando print."
      ]
    },
    {
      "cell_type": "code",
      "source": [
        "nums = input(\"Introduzca 3 números separados por comas: \")\n",
        "partes = nums.split(\",\")\n",
        "lista_nums = []\n",
        "for i in partes:\n",
        "    lista_nums.append(int(i))\n",
        "\n",
        "maximo = max(lista_nums)\n",
        "minimo = min(lista_nums)\n",
        "suma = sum(lista_nums)\n",
        "\n",
        "afirmacion = maximo - minimo == suma / 5\n",
        "\n",
        "print(f\"El número máximo es {maximo}, el número mínimo es {minimo}, la suma total es {suma} y la afirmacion es {afirmacion}\")"
      ],
      "metadata": {
        "id": "dB0xvD_jJFI-",
        "outputId": "82db7f90-5495-4e12-aa96-ea914ac8acf8",
        "colab": {
          "base_uri": "https://localhost:8080/"
        }
      },
      "execution_count": 16,
      "outputs": [
        {
          "output_type": "stream",
          "name": "stdout",
          "text": [
            "Introduzca 3 números separados por comas: 1, 2, 3\n",
            "El número máximo es 3, el número mínimo es 1, la suma total es 6 y la afirmacion es False\n"
          ]
        }
      ]
    },
    {
      "cell_type": "markdown",
      "source": [
        "En este caso usaremos una característica especial de Python llamada \"comprensión de lista\" (list comprehension), que tiene una sintaxis diferente.\n",
        "\n",
        "La comprensión de lista es una forma condensada de crear una nueva lista aplicando una operación a cada elemento de una secuencia existente. Es como combinar un bucle for y la creación de una lista en una sola línea.\n",
        "\n",
        "En una comprensión de lista, la estructura es:\n",
        "[expresión for elemento in iterable]\n",
        "Donde:\n",
        "\n",
        "-expresión es lo que quieres hacer con cada elemento (en este caso, convertirlo a entero con int(i))\n",
        "\n",
        "-for elemento in iterable es el bucle que recorre los elementos"
      ],
      "metadata": {
        "id": "e4Z2ewsVJWXh"
      }
    },
    {
      "cell_type": "code",
      "execution_count": 17,
      "metadata": {
        "id": "rAlpWiQ9NPxt",
        "outputId": "87455f17-23a0-4376-f734-35388da207c1",
        "colab": {
          "base_uri": "https://localhost:8080/"
        }
      },
      "outputs": [
        {
          "output_type": "stream",
          "name": "stdout",
          "text": [
            "Introduzca 3 números enteros separados por comas (por ejemplo: 1,2,3)1,2,3\n",
            "El número máximo es 3, el número mínimo es 1, la suma total es 6 y la afirmacion es False\n"
          ]
        }
      ],
      "source": [
        "nums = input(\"Introduzca 3 números enteros separados por comas (por ejemplo: 1,2,3)\")\n",
        "lista_nums = [int(i) for i in nums.split(\",\")]\n",
        "maximo = max(lista_nums)\n",
        "minimo = min(lista_nums)\n",
        "suma = sum(lista_nums)\n",
        "\n",
        "afirmacion = maximo - minimo == suma / 5\n",
        "\n",
        "print(f\"El número máximo es {maximo}, el número mínimo es {minimo}, la suma total es {suma} y la afirmacion es {afirmacion}\")"
      ]
    },
    {
      "cell_type": "code",
      "source": [
        "# Corregido con prevencion de posibles errores\n",
        "\n",
        "try:\n",
        "    nums = input(\"Introduzca 3 números enteros separados por comas (por ejemplo: 1,2,3): \")\n",
        "    lista_nums = [int(i) for i in nums.split(\",\")]\n",
        "\n",
        "    if len(lista_nums) != 3:\n",
        "        print(\"Error: debe introducir exactamente 3 números.\")\n",
        "    else:\n",
        "        maximo = max(lista_nums)\n",
        "        minimo = min(lista_nums)\n",
        "        suma = sum(lista_nums)\n",
        "        afirmacion = maximo - minimo == suma / 5\n",
        "        print(f\"El número máximo es {maximo}, el número mínimo es {minimo}, la suma total es {suma} y la afirmación es {afirmacion}\")\n",
        "except ValueError:\n",
        "    print(\"Error: asegúrese de introducir solo números enteros separados por comas.\")"
      ],
      "metadata": {
        "id": "GGU5V3-DF3Go",
        "outputId": "71e7c8df-3190-4475-88a7-1cfaae73d166",
        "colab": {
          "base_uri": "https://localhost:8080/"
        }
      },
      "execution_count": 14,
      "outputs": [
        {
          "output_type": "stream",
          "name": "stdout",
          "text": [
            "Introduzca 3 números enteros separados por comas (por ejemplo: 1,2,3): 1,2,3,4\n",
            "Error: debe introducir exactamente 3 números.\n"
          ]
        }
      ]
    },
    {
      "cell_type": "code",
      "source": [],
      "metadata": {
        "id": "PPjkIzgRHa_6"
      },
      "execution_count": null,
      "outputs": []
    }
  ],
  "metadata": {
    "kernelspec": {
      "display_name": "Curso_Online_DATA",
      "language": "python",
      "name": "python3"
    },
    "language_info": {
      "codemirror_mode": {
        "name": "ipython",
        "version": 3
      },
      "file_extension": ".py",
      "mimetype": "text/x-python",
      "name": "python",
      "nbconvert_exporter": "python",
      "pygments_lexer": "ipython3",
      "version": "3.11.5"
    },
    "orig_nbformat": 4,
    "colab": {
      "provenance": []
    }
  },
  "nbformat": 4,
  "nbformat_minor": 0
}