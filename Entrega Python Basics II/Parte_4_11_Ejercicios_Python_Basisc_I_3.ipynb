{
  "cells": [
    {
      "cell_type": "markdown",
      "metadata": {
        "id": "oKV4pSiLu8ET"
      },
      "source": [
        "![TheBridge_logo_RGB_color.jpg](attachment:TheBridge_logo_RGB_color.jpg)"
      ]
    },
    {
      "cell_type": "markdown",
      "metadata": {
        "id": "l5_Qaqiku8EV"
      },
      "source": [
        "![imagen](./img/ejercicios.png)"
      ]
    },
    {
      "cell_type": "markdown",
      "metadata": {
        "id": "JVyNNiPbu8EV"
      },
      "source": [
        "## EJERCICIOS PYTHON BASICO 3:\n",
        "## Operaciones matemáticas, comparación y booleanas"
      ]
    },
    {
      "cell_type": "markdown",
      "metadata": {
        "id": "SFW-if19u8EW"
      },
      "source": [
        "Completa los siguiente ejercicios, la solución completa a los mismos se publicarán en el repo del curso a lo largo del sprint. En algunos ejercicios se muestra la solución final, para que puedas comprobar que lo has hecho bien, pero lo importante es el código que generes. ¡Vaaamos, a ello...!"
      ]
    },
    {
      "cell_type": "markdown",
      "metadata": {
        "id": "3PCb1rBlu8EW"
      },
      "source": [
        "![ejercicio.png](./img/ejercicio.png)\n",
        "\n",
        "\n",
        "## Ejercicio 1\n",
        "Tenemos las siguientes variables:\n",
        "\n",
        "```Python\n",
        "A = 4\n",
        "B = \"Text\"\n",
        "C = 4.1\n",
        "```\n",
        "\n",
        "Comprueba:\n",
        "1. Si A y B son equivalentes\n",
        "2. Si A y C NO son equivalentes\n",
        "3. Si A es mayor que C\n",
        "4. Si C es menor o igual que A\n",
        "5. Si B NO es equivalente a C"
      ]
    },
    {
      "cell_type": "code",
      "execution_count": 11,
      "metadata": {
        "id": "-A2zfg0wu8EX",
        "outputId": "c080b8da-c016-4629-c882-99ab65b4f31b",
        "colab": {
          "base_uri": "https://localhost:8080/"
        }
      },
      "outputs": [
        {
          "output_type": "stream",
          "name": "stdout",
          "text": [
            "False\n",
            "True\n",
            "False\n",
            "False\n",
            "True\n"
          ]
        }
      ],
      "source": [
        "A = 4\n",
        "B = \"CHCH\"\n",
        "C = 4.1\n",
        "\n",
        "print(A == B)\n",
        "print(A != C)\n",
        "print(A > C)\n",
        "print(C <= A)\n",
        "print(B != C)"
      ]
    },
    {
      "cell_type": "markdown",
      "metadata": {
        "id": "7d2N0JITu8EX"
      },
      "source": [
        "![ejercicio.png](./img/ejercicio.png)\n",
        "\n",
        "## Ejercicio 2\n",
        "Crea un programa donde se recojan dos inputs del usuario, y el output del programa sea si esos inputs son iguales o no"
      ]
    },
    {
      "cell_type": "code",
      "execution_count": 13,
      "metadata": {
        "id": "F1-GIMCsu8EY",
        "outputId": "033f73c1-82d3-47d5-d7ab-aa0cf8e58691",
        "colab": {
          "base_uri": "https://localhost:8080/"
        }
      },
      "outputs": [
        {
          "output_type": "stream",
          "name": "stdout",
          "text": [
            "Dime tu edad: 12\n",
            "Dime tu edad: 12\n",
            "True\n"
          ]
        }
      ],
      "source": [
        "edad_usuario_1 = int(input(\"Dime tu edad: \"))\n",
        "edad_usuario_2 = int(input(\"Dime tu edad: \"))\n",
        "\n",
        "print(edad_usuario_1 == edad_usuario_2)"
      ]
    },
    {
      "cell_type": "markdown",
      "metadata": {
        "id": "nsE7tE1ju8EY"
      },
      "source": [
        "![ejercicio.png](./img/ejercicio.png)\n",
        "\n",
        "## Ejercicio 3\n",
        "Mismo programa que en 2, pero en esta ocasión tienen que ser tres inputs y dos salidas. Una de las salidas que nos indique si todos son iguales, y la otra si al menos dos inputs sí que lo son"
      ]
    },
    {
      "cell_type": "code",
      "execution_count": 17,
      "metadata": {
        "id": "G8Nco_Dnu8EY",
        "outputId": "ef135088-6642-4298-c0a5-34c6433e5d17",
        "colab": {
          "base_uri": "https://localhost:8080/"
        }
      },
      "outputs": [
        {
          "output_type": "stream",
          "name": "stdout",
          "text": [
            "Dime tu edad: 12\n",
            "Dime tu edad: 13\n",
            "Dime tu edad: 12\n",
            "Todos los usuarios son iguales: False\n",
            "Algunos usuarios son iguales: True\n"
          ]
        }
      ],
      "source": [
        "edad_usuario_1 = int(input(\"Dime tu edad: \"))\n",
        "edad_usuario_2 = int(input(\"Dime tu edad: \"))\n",
        "edad_usuario_3 = int(input(\"Dime tu edad: \"))\n",
        "\n",
        "print(\"Todos los usuarios son iguales:\",edad_usuario_1 == edad_usuario_2 == edad_usuario_3)\n",
        "print(\"Algunos usuarios son iguales:\",edad_usuario_1 == edad_usuario_2 or edad_usuario_1 == edad_usuario_3 or edad_usuario_2 == edad_usuario_3)"
      ]
    },
    {
      "cell_type": "markdown",
      "metadata": {
        "id": "1shAWnPPu8EY"
      },
      "source": [
        "12![ejercicio.png](./img/ejercicio.png)\n",
        "\n",
        "## Ejercicio 4\n",
        "Razona sin ejecutar código el output que obtendremos de las siguientes sentencias\n",
        "1. True and True and False\n",
        "2. not ((True or False) and (True or False))\n",
        "3. (False or False or False or True) and False\n",
        "4. not False and True and not True"
      ]
    },
    {
      "cell_type": "markdown",
      "metadata": {
        "id": "CG_oFhRsu8EZ"
      },
      "source": [
        "1. Para evaluar esta expresión, recordemos que el operador and devuelve True solo si todas las condiciones son verdaderas. Si cualquiera es falsa, el resultado es False.\n",
        "\n",
        "2.\n",
        "(True or False) → True (porque el operador or devuelve True si al menos una condición es verdadera)\n",
        "(True or False) → True (el segundo paréntesis también evalúa a True)\n",
        "True and True → True (ambas condiciones son verdaderas)\n",
        "not True → False (el operador not invierte el valor booleano)\n",
        "\n",
        "Por lo tanto, not ((True or False) and (True or False)) evalúa a False.\n",
        "\n",
        "3.\n",
        "False or False or False or True → True (el operador or devuelve True si al menos una condición es verdadera)\n",
        "True and False → False (el operador and devuelve False si cualquier condición es falsa)\n",
        "\n",
        "Por lo tanto, (False or False or False or True) and False evalúa a False.\n",
        "\n",
        "4.\n",
        "not False → True (invierte el valor de False)\n",
        "not True → False (invierte el valor de True)\n",
        "True and True and False → False (necesitamos todas las condiciones verdaderas para que and devuelva True)\n"
      ]
    }
  ],
  "metadata": {
    "kernelspec": {
      "display_name": "Curso_Online_DATA",
      "language": "python",
      "name": "python3"
    },
    "language_info": {
      "codemirror_mode": {
        "name": "ipython",
        "version": 3
      },
      "file_extension": ".py",
      "mimetype": "text/x-python",
      "name": "python",
      "nbconvert_exporter": "python",
      "pygments_lexer": "ipython3",
      "version": "3.11.5"
    },
    "orig_nbformat": 4,
    "colab": {
      "provenance": []
    }
  },
  "nbformat": 4,
  "nbformat_minor": 0
}