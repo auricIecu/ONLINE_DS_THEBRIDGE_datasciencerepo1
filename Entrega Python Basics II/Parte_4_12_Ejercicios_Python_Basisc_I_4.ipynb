{
  "cells": [
    {
      "cell_type": "markdown",
      "metadata": {
        "id": "AUpP2oyg2FdH"
      },
      "source": [
        "![TheBridge_logo_RGB_color.jpg](attachment:TheBridge_logo_RGB_color.jpg)"
      ]
    },
    {
      "cell_type": "markdown",
      "metadata": {
        "id": "4qzyhrdi2FdI"
      },
      "source": [
        "![imagen](./img/ejercicios.png)"
      ]
    },
    {
      "cell_type": "markdown",
      "metadata": {
        "id": "HEULXBCI2FdI"
      },
      "source": [
        "## EJERCICIOS PYTHON BASICO 4:\n",
        "## Funciones, métodos, listas"
      ]
    },
    {
      "cell_type": "markdown",
      "metadata": {
        "id": "tr1BLXbV2FdI"
      },
      "source": [
        "Completa los siguiente ejercicios, la solución completa a los mismos se publicarán en el repo del curso a lo largo del sprint. En algunos ejercicios se muestra la solución final, para que puedas comprobar que lo has hecho bien, pero lo importante es el código que generes. ¡Vaaamos, a ello...!"
      ]
    },
    {
      "cell_type": "markdown",
      "metadata": {
        "id": "WbKCI7-82FdJ"
      },
      "source": [
        "![ejercicio.png](./img/ejercicio.png)\n",
        "\n",
        "## Ejercicio 1\n",
        "Para este ejercicio vamos a poner en práctica [las funciones built in](https://docs.python.org/3/library/functions.html).\n",
        "\n",
        "1. Calcula el máximo de la lista: [4, 6, 8, -1]\n",
        "2. Suma todos los elementos de la lista anterior\n",
        "3. Redondea este float a 3 dígitos decimales: 63.451256965\n",
        "4. Valor absoluto de: -74"
      ]
    },
    {
      "cell_type": "code",
      "execution_count": 2,
      "metadata": {
        "id": "BuUIfBip2FdJ",
        "outputId": "a6073981-1040-4164-801e-e93d71e706a5",
        "colab": {
          "base_uri": "https://localhost:8080/"
        }
      },
      "outputs": [
        {
          "output_type": "stream",
          "name": "stdout",
          "text": [
            "17\n",
            "63.451\n"
          ]
        },
        {
          "output_type": "execute_result",
          "data": {
            "text/plain": [
              "74"
            ]
          },
          "metadata": {},
          "execution_count": 2
        }
      ],
      "source": [
        "lista = [4, 6, 8, -1]\n",
        "max(lista)\n",
        "total = sum(lista)\n",
        "print(total)\n",
        "redondeado = round(63.451256965, 3)\n",
        "print(redondeado)\n",
        "abs(-74)"
      ]
    },
    {
      "cell_type": "markdown",
      "metadata": {
        "id": "13j0TqKz2FdJ"
      },
      "source": [
        "![ejercicio.png](./img/ejercicio.png)\n",
        "\n",
        "## Ejercicio 2\n",
        "Para el siguiente string se pide imprimir por pantalla los siguientes casos\n",
        "\n",
        "    \"En un lugar de la Mancha, de cuyo nombre no quiero acordarme.\"\n",
        "\n",
        "1. Pásalo todo a mayúsculas\n",
        "2. Pásalo todo a minúsculas\n",
        "3. Solo la primera letra de cada palabra en mayúscula, el resto en minúscula\n",
        "4. Crea una lista dividiéndolo por sus espacios\n",
        "5. Sustituye las comas `,` por puntos y comas `;`\n",
        "6. Elimina las `a` minúsculas"
      ]
    },
    {
      "cell_type": "code",
      "execution_count": 4,
      "metadata": {
        "id": "w6JIKuy12FdJ",
        "outputId": "71594dd2-ce25-4784-d881-d63d78ce6ad9",
        "colab": {
          "base_uri": "https://localhost:8080/"
        }
      },
      "outputs": [
        {
          "output_type": "stream",
          "name": "stdout",
          "text": [
            "EN UN LUGAR DE LA MANCHA, DE CUYO NOMBRE NO QUIERO ACORDARME.\n",
            "en un lugar de la mancha, de cuyo nombre no quiero acordarme.\n",
            "En Un Lugar De La Mancha, De Cuyo Nombre No Quiero Acordarme.\n",
            "['En', 'un', 'lugar', 'de', 'la', 'Mancha,', 'de', 'cuyo', 'nombre', 'no', 'quiero', 'acordarme.']\n",
            "En un lugar de la Mancha; de cuyo nombre no quiero acordarme.\n",
            "En un lugr de l Mnch, de cuyo nombre no quiero cordrme.\n"
          ]
        }
      ],
      "source": [
        "texto = \"En un lugar de la Mancha, de cuyo nombre no quiero acordarme.\"\n",
        "print(texto.upper())\n",
        "print(texto.lower())\n",
        "print(texto.title())\n",
        "print(texto.split())\n",
        "print(texto.replace(',', ';'))\n",
        "print(texto.replace('a', ''))"
      ]
    },
    {
      "cell_type": "markdown",
      "metadata": {
        "id": "h4IVnOS72FdK"
      },
      "source": [
        "![ejercicio.png](./img/ejercicio.png)\n",
        "\n",
        "## Ejercicio 3\n",
        "1. Crea una lista con 3 elementos numéricos\n",
        "2. Añade un cuarto elemento\n",
        "3. Calcula la suma de todos\n",
        "4. Elimina el segundo elemento de la lista\n",
        "5. Añade otro elemento en la posicion 3 de la lista\n",
        "6. Crea otra lista con 4 elementos y concaténala a la que ya tenías.\n",
        "7. Ordena la lista de menor a mayor.\n",
        "8. BONUS: Ordena la lista de mayor a menor.  \n",
        "(*PISTA: Para hacer 8, tendrás que buscar en la información del método...*)  \n",
        "  \n",
        "  \n",
        "NOTA: Pinta por pantalla el resultado de cada paso."
      ]
    },
    {
      "cell_type": "code",
      "execution_count": 23,
      "metadata": {
        "id": "jsLnchQg2FdK",
        "outputId": "52f7a3d7-24df-4d03-999e-474d07ec0d08",
        "colab": {
          "base_uri": "https://localhost:8080/"
        }
      },
      "outputs": [
        {
          "output_type": "stream",
          "name": "stdout",
          "text": [
            "[1, 2, 3, 4]\n",
            "10\n",
            "[1, 3, 4]\n",
            "[1, 3, 50, 4]\n",
            "[1, 2, 3, 4, 10, 23, 34]\n",
            "[1, 2, 3, 4, 10, 23, 34]\n",
            "[34, 23, 10, 4, 3, 2, 1]\n"
          ]
        }
      ],
      "source": [
        "lista = [1, 2, 3]\n",
        "lista.append(4)\n",
        "print(lista)\n",
        "\n",
        "suma_lista = sum(lista)\n",
        "print(suma_lista)\n",
        "\n",
        "nueva_lista = lista.copy()\n",
        "del nueva_lista[1]\n",
        "print(nueva_lista)\n",
        "\n",
        "nueva_lista.insert(2, 50)\n",
        "print(nueva_lista)\n",
        "\n",
        "lista_2 = [10, 23, 34]\n",
        "\n",
        "lista_total = lista + lista_2\n",
        "print(lista_total)\n",
        "\n",
        "lista_total.sort()\n",
        "print(lista_total)\n",
        "\n",
        "lista_total.sort(reverse=True)\n",
        "print(lista_total)\n",
        "\n",
        "\n",
        "\n"
      ]
    },
    {
      "cell_type": "code",
      "source": [],
      "metadata": {
        "id": "1ZPVC_lO5BmQ"
      },
      "execution_count": 17,
      "outputs": []
    }
  ],
  "metadata": {
    "kernelspec": {
      "display_name": "Curso_Online_DATA",
      "language": "python",
      "name": "python3"
    },
    "language_info": {
      "codemirror_mode": {
        "name": "ipython",
        "version": 3
      },
      "file_extension": ".py",
      "mimetype": "text/x-python",
      "name": "python",
      "nbconvert_exporter": "python",
      "pygments_lexer": "ipython3",
      "version": "3.11.5"
    },
    "orig_nbformat": 4,
    "colab": {
      "provenance": []
    }
  },
  "nbformat": 4,
  "nbformat_minor": 0
}