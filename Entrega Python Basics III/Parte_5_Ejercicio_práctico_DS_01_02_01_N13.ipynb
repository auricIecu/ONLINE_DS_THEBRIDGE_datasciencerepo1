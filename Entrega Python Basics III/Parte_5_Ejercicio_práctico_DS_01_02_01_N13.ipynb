{
  "cells": [
    {
      "cell_type": "markdown",
      "metadata": {
        "id": "9l3HMgm6RWxF"
      },
      "source": [
        "![TheBridge_logo_RGB_color.jpg](attachment:TheBridge_logo_RGB_color.jpg)"
      ]
    },
    {
      "cell_type": "markdown",
      "metadata": {
        "id": "RGg9iWpoRWxG"
      },
      "source": [
        "![ejercicios.png](attachment:ejercicios.png)"
      ]
    },
    {
      "cell_type": "markdown",
      "metadata": {
        "id": "AyOlWS2nRWxH"
      },
      "source": [
        "## PRACTICA OBLIGATORIA: COLECCIONES Y FUNCIONES"
      ]
    },
    {
      "cell_type": "markdown",
      "metadata": {
        "id": "6UOgb0KVRWxH"
      },
      "source": [
        "* La práctica obligatoria de esta unidad consiste varios ejercicios de programación libre a completar sobre Colecciones y Funciones. Descarga este notebook en tu ordenador y trabaja en local.  \n",
        "* Recuerda que debes subirla a tu repositorio personal antes de la sesión en vivo para que puntúe adecuadamente y puedas participar en dicha sesión.  \n",
        "* Recuerda también que no es necesario que esté perfecta, sólo es necesario que se vea el esfuerzo.\n",
        "* Esta práctica se resolverá en la sesión en vivo correspondiente y la solución se publicará en el repo del curso."
      ]
    },
    {
      "cell_type": "markdown",
      "metadata": {
        "id": "j3yu-tEjRWxH"
      },
      "source": [
        "### Contenidos"
      ]
    },
    {
      "cell_type": "markdown",
      "metadata": {
        "id": "kO-fLH39RWxH"
      },
      "source": [
        "## Ejercicio 1\n",
        "Eleva todos los elementos de la lista al cuadrado\n",
        "> ```ejer_2 = [1,2,3,4,5]```"
      ]
    },
    {
      "cell_type": "code",
      "execution_count": null,
      "metadata": {
        "id": "ks5l3yi7RWxH"
      },
      "outputs": [
        {
          "name": "stdout",
          "output_type": "stream",
          "text": [
            "[1, 4, 9, 16, 25]\n"
          ]
        }
      ],
      "source": [
        "ejer_2 = [1,2,3,4,5] # Defino la lista inicial\n",
        "ejer_3 = [] # Creo la lista donde iran los nuevos elementos\n",
        "\n",
        "for i in ejer_2:\n",
        "    ejer_3.append(i**2) # Creo un for que recorrera los elementos de la lista existente y rellenara la nueva utilizando append y elevando los elementos al cuadrado.\n",
        "\n",
        "print(ejer_3) # Imprimo\n"
      ]
    },
    {
      "cell_type": "markdown",
      "metadata": {
        "id": "kI_Xr5oFRWxI"
      },
      "source": [
        "## Ejercicio 2\n",
        "Haz un programa que detecte todos los duplicados de un elemento en una lista:\n",
        "* Utiliza una variable duplicado para asignarle el valor del elemento del que queremos encontrar todos sus duplicados.\n",
        "* El programa debe devolver todos los índices de los elementos duplicados.\n",
        "* Aplícalo para encontrar los duplicados de \"un\", \"es\" y \"binario\" de:  \n",
        "\n",
        ">```ejer_3 = [\"Un\", \"árbol\", \"binario\", \"es\", \"una\", \"estructura\", \"de\", \"un\", \"tipo\", \"particular\", \"a\", \"veces\", \"no\", \"es\", \"ni\", \"binario\"]```\n"
      ]
    },
    {
      "cell_type": "code",
      "execution_count": 1,
      "metadata": {
        "id": "cLY9WB7YRWxI"
      },
      "outputs": [
        {
          "name": "stdout",
          "output_type": "stream",
          "text": [
            "Duplicados de 'un' encontrados en los índices: [0, 7]\n",
            "Duplicados de 'es' encontrados en los índices: [3, 13]\n",
            "Duplicados de 'binario' encontrados en los índices: [2, 15]\n"
          ]
        }
      ],
      "source": [
        "ejer_3 = [\"Un\", \"árbol\", \"binario\", \"es\", \"una\", \"estructura\", \"de\", \"un\", \"tipo\", \"particular\", \"a\", \"veces\", \"no\", \"es\", \"ni\", \"binario\"]\n",
        "\n",
        "def encontrar_duplicados(lista, duplicado): # Defino la función para encontrar los índices de los duplicados. Los inputs seran la lista inicial y el numero especifico de la lista que estamos buscando si esta duplicado.\n",
        "    indices = [] # Creo la lista donde se agregaran los indices donde se ubican los elementos duplicados.\n",
        "    for i, elemento in enumerate(lista): # Recorremos la lista con enumerate. Enumerate nos permitira obtener tanto el índice como el valor de los elementos de la lista. Tener en cuenta que i es para el indice y elemento es para el valor.\n",
        "        if elemento.lower() == duplicado.lower(): # Comparamos los valores elemento, ignorando mayúsculas/minúsculas.\n",
        "            indices.append(i)\n",
        "    return indices\n",
        "\n",
        "elementos = [\"un\", \"es\", \"binario\"] # Definimos la lista de los elementos que queremos buscar.\n",
        "\n",
        "for dupli in elementos: # Con for buscamos los dupli (no igual a duplicado) en elementos\n",
        "    resultado = encontrar_duplicados(ejer_3, dupli) # Llamamos a la funcion teniendo en cuenta la lista total y los dupli definidos.\n",
        "    if len(resultado) > 1:  # Si hay más de una ocurrencia, hay duplicados\n",
        "        print(f\"Duplicados de '{dupli}' encontrados en los índices: {resultado}\")\n",
        "    else:\n",
        "        print(f\"No hay duplicados de '{dupli}', solo aparece en: {resultado}\")\n"
      ]
    },
    {
      "cell_type": "markdown",
      "metadata": {
        "id": "3WrBd5QaRWxI"
      },
      "source": [
        "## Ejercicio 3\n",
        "1. ¿Cuántas veces se repite el 3 en la siguiente tupla?\n",
        "2. Crea una tupla nueva con los elementos desde la posicion 5 a la 10.\n",
        "3. ¿Cuántos elementos tiene la tupla `ejer_3`?\n",
        "> ```ejer_9 = (3, 20, 3, 47, 19, 3, 29, 45, 67, 78, 90, 3, 3, 5, 2, 4, 7, 9, 4, 2, 4, 3, 3, 4, 6, 7)```"
      ]
    },
    {
      "cell_type": "code",
      "execution_count": null,
      "metadata": {
        "id": "bkv_R5LYRWxI"
      },
      "outputs": [
        {
          "name": "stdout",
          "output_type": "stream",
          "text": [
            "7\n",
            "(19, 3, 29, 45, 67, 78)\n",
            "26\n"
          ]
        }
      ],
      "source": [
        "ejer_9 = (3, 20, 3, 47, 19, 3, 29, 45, 67, 78, 90, 3, 3, 5, 2, 4, 7, 9, 4, 2, 4, 3, 3, 4, 6, 7) # Defino la tupla total\n",
        "\n",
        "#1\n",
        "num_de_3 = ejer_9.count(3) # Cuento con la funcion count cuantos 3 hay en la tupla\n",
        "print(num_de_3)\n",
        "\n",
        "#2\n",
        "tupla_5_10 = ejer_9[4:10] # Con slicing separo los elementos especificos\n",
        "print(tupla_5_10)\n",
        "\n",
        "#3\n",
        "conteo_tupla = len(ejer_9) # Con len puedo contar los elementos que hay en una lista\n",
        "print(conteo_tupla)\n"
      ]
    },
    {
      "cell_type": "markdown",
      "metadata": {
        "id": "6g8Y54AeRWxI"
      },
      "source": [
        "## Ejercicio 4\n",
        "Comprueba si el numero 60 esta en la tupla del ejercicio 3"
      ]
    },
    {
      "cell_type": "code",
      "execution_count": null,
      "metadata": {
        "id": "F8VTEZonRWxI"
      },
      "outputs": [
        {
          "name": "stdout",
          "output_type": "stream",
          "text": [
            "False\n",
            "False\n",
            "False\n"
          ]
        }
      ],
      "source": [
        "ejer_9 = (3, 20, 3, 47, 19, 3, 29, 45, 67, 78, 90, 3, 3, 5, 2, 4, 7, 9, 4, 2, 4, 3, 3, 4, 6, 7) # Defino la tupla total\n",
        "\n",
        "#Puedo hacerlo de tres maneras\n",
        "\n",
        "print(ejer_9.count(60) > 0)\n",
        "\n",
        "print(ejer_9.count(60) == True)\n",
        "\n",
        "print(60 in ejer_9)"
      ]
    },
    {
      "cell_type": "markdown",
      "metadata": {
        "id": "y0fg-ZA6RWxI"
      },
      "source": [
        "## Ejercicio 5\n",
        "1. Convierte la tupla del ejercicio 3 en una lista\n",
        "2. Convierte la tupla del ejercicio 3 en un set\n",
        "3. Convierte la tupla del ejercicio 3 en un diccionario. Usa también los indices"
      ]
    },
    {
      "cell_type": "code",
      "execution_count": null,
      "metadata": {
        "id": "_O5hXr01RWxI"
      },
      "outputs": [
        {
          "name": "stdout",
          "output_type": "stream",
          "text": [
            "[3, 20, 3, 47, 19, 3, 29, 45, 67, 78, 90, 3, 3, 5, 2, 4, 7, 9, 4, 2, 4, 3, 3, 4, 6, 7]\n",
            "{2, 3, 67, 5, 4, 7, 6, 9, 45, 78, 47, 19, 20, 90, 29}\n",
            "{0: 3, 1: 20, 2: 3, 3: 47, 4: 19, 5: 3, 6: 29, 7: 45, 8: 67, 9: 78, 10: 90, 11: 3, 12: 3, 13: 5, 14: 2, 15: 4, 16: 7, 17: 9, 18: 4, 19: 2, 20: 4, 21: 3, 22: 3, 23: 4, 24: 6, 25: 7}\n"
          ]
        }
      ],
      "source": [
        "ejer_9 = (3, 20, 3, 47, 19, 3, 29, 45, 67, 78, 90, 3, 3, 5, 2, 4, 7, 9, 4, 2, 4, 3, 3, 4, 6, 7) # Defino la tupla total\n",
        "\n",
        "#1\n",
        "ejer_9_lista = list(ejer_9)\n",
        "print(ejer_9_lista)\n",
        "\n",
        "#2\n",
        "ejer_9_set = set(ejer_9)\n",
        "print(ejer_9_set) # Los sets no son ordenados, por ende no se imprimiran asi\n",
        "\n",
        "#3\n",
        "##Error, no puedo convertirlo asi porque no tengo pares definidos\n",
        "#ejer_9_dict = dict(ejer_9)\n",
        "#print(ejer_9_dict)\n",
        "\n",
        "ejer_9_dict = {i: valor for i, valor in enumerate(ejer_9)} # Defino el indice i y el valor, que recorra la tupla con enumerate. enumerate genera pares de (índice, valor) para cada elemento de la tupla que rellenaremos con el for.\n",
        "print(ejer_9_dict)"
      ]
    },
    {
      "cell_type": "markdown",
      "metadata": {
        "id": "eOdWWbxvRWxJ"
      },
      "source": [
        "## Ejercicio 6\n",
        "Multiplica todos los valores del diccionario\n",
        "> ```ejer_6 = {1: 11, 2: 22, 3: 33, 4: 44, 5: 55}```"
      ]
    },
    {
      "cell_type": "code",
      "execution_count": 26,
      "metadata": {
        "id": "KcuByovKRWxJ"
      },
      "outputs": [
        {
          "name": "stdout",
          "output_type": "stream",
          "text": [
            "El producto de todos los valores es: 19326120\n"
          ]
        }
      ],
      "source": [
        "ejer_6 = {1: 11, 2: 22, 3: 33, 4: 44, 5: 55}\n",
        "resultado = 1  # Empezamos con 1 porque es el neutro multiplicativo. Resultado será el acumulador donde guardaremos el resultado de multiplicar todos los valores. Empezar en 1 asegura que el primer valor que multipliquemos no altere el resultado inicial.\n",
        "\n",
        "for valor in ejer_6.values():  # ejer_6.values() nos da [11, 22, 33, 44, 55]\n",
        "    resultado *= valor  # Equivale a: resultado = resultado * valor\n",
        "\n",
        "print(f\"El producto de todos los valores es: {resultado}\")\n"
      ]
    },
    {
      "cell_type": "markdown",
      "metadata": {
        "id": "W7TUSaKRRWxJ"
      },
      "source": [
        "## Ejercicio 7\n",
        "\n",
        "1. Crea un diccionario que describa un libro, con los siguientes campos o claves: \"titulo\",\"autor\",\"idioma original\",\"año de publicación\".\n",
        "2. Crea un a lista, llamada librería.\n",
        "3. Añade cuatro libros a tu elección a la librería."
      ]
    },
    {
      "cell_type": "code",
      "execution_count": 31,
      "metadata": {
        "id": "d-IMRvxRRWxJ"
      },
      "outputs": [
        {
          "name": "stdout",
          "output_type": "stream",
          "text": [
            "Diccionario inicial: {'titulo': None, 'autor': None, 'idioma original': None, 'ano de publicacion': None}\n",
            "Diccionario actualizado: {'titulo': ['100 anos de soledad', 'El alquemista', 'El guardian entre centeno', 'Jobs'], 'autor': None, 'idioma original': None, 'ano de publicacion': None}\n"
          ]
        }
      ],
      "source": [
        "ejer_7_dict = {\n",
        "    \"titulo\": None,\n",
        "    \"autor\": None,\n",
        "    \"idioma original\": None,\n",
        "    \"ano de publicacion\": None\n",
        "}\n",
        "print(\"Diccionario inicial:\", ejer_7_dict)\n",
        "\n",
        "libreria = [\"100 anos de soledad\", \"El alquemista\", \"El guardian entre centeno\", \"Jobs\"]\n",
        "\n",
        "ejer_7_dict[\"titulo\"] = libreria  # Asignar toda la lista a \"titulo\"\n",
        "\n",
        "print(\"Diccionario actualizado:\", ejer_7_dict)\n",
        "\n",
        "\n"
      ]
    },
    {
      "cell_type": "markdown",
      "metadata": {
        "id": "glMoedjYRWxJ"
      },
      "source": [
        "## Ejercicio 8\n",
        "Modifica los valores del idioma de todos los libros del ejercicio anterior para que sea \"esperanto\"\n"
      ]
    },
    {
      "cell_type": "code",
      "execution_count": 1,
      "metadata": {
        "id": "veNdC-uwRWxJ"
      },
      "outputs": [
        {
          "name": "stdout",
          "output_type": "stream",
          "text": [
            "Diccionario inicial: {'titulo': None, 'autor': None, 'idioma original': None, 'ano de publicacion': None}\n",
            "Diccionario actualizado: {'titulo': ['100 anos de soledad', 'El alquemista', 'El guardian entre centeno', 'Jobs'], 'autor': None, 'idioma original': None, 'ano de publicacion': None}\n",
            "Diccionario actualizado 2 {'titulo': ['100 anos de soledad', 'El alquemista', 'El guardian entre centeno', 'Jobs'], 'autor': None, 'idioma original': 'esperanto', 'ano de publicacion': None}\n"
          ]
        }
      ],
      "source": [
        "ejer_7_dict = {\n",
        "    \"titulo\": None,\n",
        "    \"autor\": None,\n",
        "    \"idioma original\": None,\n",
        "    \"ano de publicacion\": None\n",
        "}\n",
        "print(\"Diccionario inicial:\", ejer_7_dict)\n",
        "\n",
        "libreria = [\"100 anos de soledad\", \"El alquemista\", \"El guardian entre centeno\", \"Jobs\"]\n",
        "\n",
        "ejer_7_dict[\"titulo\"] = libreria  # Asignar toda la lista a \"titulo\"\n",
        "\n",
        "print(\"Diccionario actualizado:\", ejer_7_dict)\n",
        "\n",
        "ejer_7_dict[\"idioma original\"] = \"esperanto\"\n",
        "\n",
        "print(\"Diccionario actualizado 2\", ejer_7_dict)\n"
      ]
    },
    {
      "cell_type": "markdown",
      "metadata": {
        "id": "DRCJG04KRWxJ"
      },
      "source": [
        "## Ejercicio 9\n",
        "1. Escribe un programa que dada una variable titulo busque los libros que hay en la librería con ese título. Si no se encuentra debe devolver el mensaje `Ese no lo tengo, ¿mola?`\n",
        "2. Pruena que el programa con uno de tus libros y con otro que no contenga tu librería."
      ]
    },
    {
      "cell_type": "code",
      "execution_count": 5,
      "metadata": {
        "id": "eWHdJi9BRWxJ"
      },
      "outputs": [
        {
          "name": "stdout",
          "output_type": "stream",
          "text": [
            "Tenemos tu libro compadre\n"
          ]
        }
      ],
      "source": [
        "ejer_7_dict = {\n",
        "    'titulo': ['100 anos de soledad', 'El alquemista', 'El guardian entre centeno', 'Jobs'],\n",
        "    'autor': None,\n",
        "    'idioma original': 'esperanto',\n",
        "    'ano de publicacion': None\n",
        "}\n",
        "variable = input(\"Dime el nombre del libro: \")\n",
        "def buscar_libro(diccionario, elemento):\n",
        "    return elemento in diccionario[\"titulo\"]  # Devuelve True o False\n",
        "\n",
        "resultado = buscar_libro(ejer_7_dict, variable)\n",
        "if resultado:\n",
        "    print(\"Tenemos tu libro compadre\")\n",
        "else:\n",
        "    print(\"Ese no lo tengo, mola?\")\n",
        "\n"
      ]
    },
    {
      "cell_type": "markdown",
      "metadata": {
        "id": "17YOpYuFRWxJ"
      },
      "source": [
        "## Ejercicio 10\n",
        "Convierte el programa del ejercicio 2 en una función al que se le pase el valor a buscar como un argumento posicional"
      ]
    },
    {
      "cell_type": "code",
      "execution_count": null,
      "metadata": {
        "id": "xbj0LgvnRWxJ"
      },
      "outputs": [],
      "source": [
        "ejer_3 = [\"Un\", \"árbol\", \"binario\", \"es\", \"una\", \"estructura\", \"de\", \"un\", \"tipo\", \"particular\", \"a\", \"veces\", \"no\", \"es\", \"ni\", \"binario\"]\n",
        "\n",
        "def encontrar_duplicados(lista, duplicado): # Defino la función para encontrar los índices de los duplicados. Los inputs seran la lista inicial y el numero especifico de la lista que estamos buscando si esta duplicado.\n",
        "    indices = [] # Creo la lista donde se agregaran los indices donde se ubican los elementos duplicados.\n",
        "    for i, elemento in enumerate(lista): # Recorremos la lista con enumerate. Enumerate nos permitira obtener tanto el índice como el valor de los elementos de la lista. Tener en cuenta que i es para el indice y elemento es para el valor.\n",
        "        if elemento.lower() == duplicado.lower(): # Comparamos los valores elemento, ignorando mayúsculas/minúsculas.\n",
        "            indices.append(i)\n",
        "    return indices\n",
        "\n",
        "elementos = [\"un\", \"es\", \"binario\"] # Definimos la lista de los elementos que queremos buscar.\n",
        "\n",
        "for dupli in elementos: # Con for buscamos los dupli (no igual a duplicado) en elementos\n",
        "    resultado = encontrar_duplicados(ejer_3, dupli) # Llamamos a la funcion teniendo en cuenta la lista total y los dupli definidos.\n",
        "    if len(resultado) > 1:  # Si hay más de una ocurrencia, hay duplicados\n",
        "        print(f\"Duplicados de '{dupli}' encontrados en los índices: {resultado}\")\n",
        "    else:\n",
        "        print(f\"No hay duplicados de '{dupli}', solo aparece en: {resultado}\")"
      ]
    },
    {
      "cell_type": "markdown",
      "metadata": {
        "id": "xZ-sWJxPRWxJ"
      },
      "source": [
        "## Ejercicio 11\n",
        "Convierte el programa del ejercicio 9 en una función al que se le pasen como argumentos la librería, posicional, y el título, argumento keyword con valor \"ninguno\", por defecto."
      ]
    },
    {
      "cell_type": "code",
      "execution_count": 9,
      "metadata": {
        "id": "4-JrsMdNRWxK"
      },
      "outputs": [
        {
          "name": "stdout",
          "output_type": "stream",
          "text": [
            "Tenemos tu libro compadre\n"
          ]
        }
      ],
      "source": [
        "ejer_7_dict = {\n",
        "    'titulo': ['100 anos de soledad', 'El alquemista', 'El guardian entre centeno', 'Jobs'],\n",
        "    'autor': None,\n",
        "    'idioma original': 'esperanto',\n",
        "    'ano de publicacion': None\n",
        "}\n",
        "\n",
        "def gestion_biblioteca(libreria, titulo=\"ninguno\"):\n",
        "    if titulo == \"ninguno\":\n",
        "        titulo = input(\"Dime el nombre del libro: \")\n",
        "    if titulo in libreria[\"titulo\"]:\n",
        "        print(\"Tenemos tu libro compadre\")\n",
        "    else:\n",
        "        print(\"Ese no lo tengo, mola?\")\n",
        "\n",
        "gestion_biblioteca(ejer_7_dict)"
      ]
    },
    {
      "cell_type": "markdown",
      "metadata": {
        "id": "FtJir95QRWxK"
      },
      "source": [
        "## Ejercicio 12\n",
        "Solicitar al usuario que ingrese su dirección email. Imprimir un mensaje indicando si la dirección es válida o no, valiéndose de una función para decidirlo. Una dirección se considerará válida si contiene el símbolo \"@\"."
      ]
    },
    {
      "cell_type": "code",
      "execution_count": 12,
      "metadata": {
        "id": "sk852IZ8RWxK"
      },
      "outputs": [
        {
          "name": "stdout",
          "output_type": "stream",
          "text": [
            "La dirección de email NO es válida. Debe contener el símbolo '@'.\n"
          ]
        }
      ],
      "source": [
        "email = input(\"Ingrese su direccion emial \")\n",
        "\n",
        "def validacion_mail(email):\n",
        "    return \"@\" in email\n",
        "\n",
        "if validacion_mail(email):\n",
        "    print(\"La dirección de email es válida.\")\n",
        "else:\n",
        "    print(\"La dirección de email NO es válida. Debe contener el símbolo '@'.\")"
      ]
    },
    {
      "cell_type": "markdown",
      "metadata": {
        "id": "Kw1MWBwBRWxK"
      },
      "source": [
        "## Ejercicio 13\n",
        "Escribe una función que compruebe si un DNI es válido, devolviendo `True` en caso afirmativo.  \n",
        "En primer lugar, el DNI debe tener entre 7 y 8 dígitos numéricos.  \n",
        "Para saber si la letra del DNI es correcta puedes utilizar el siguiente fragmento de código:\n",
        ">```Python\n",
        ">DNI= 55555555\n",
        ">palabra='TRWAGMYFPDXBNJZSQVHLCKE'\n",
        ">print('La letra del DNI es: ', palabra[DNI%23])\n",
        ">````\n"
      ]
    },
    {
      "cell_type": "code",
      "execution_count": 14,
      "metadata": {
        "id": "F5Z9rSHqRWxK"
      },
      "outputs": [
        {
          "name": "stdout",
          "output_type": "stream",
          "text": [
            "El DNI no es válido\n"
          ]
        }
      ],
      "source": [
        "def es_dni_valido(dni):\n",
        "    \"\"\"\n",
        "    Comprueba si un DNI español es válido.\n",
        "    \n",
        "    Args:\n",
        "        dni (str): DNI con formato de 7-8 dígitos seguidos de una letra\n",
        "        \n",
        "    Returns:\n",
        "        bool: True si el DNI es válido, False en caso contrario\n",
        "    \"\"\"\n",
        "    # Comprobamos que la longitud sea correcta (8-9 caracteres)\n",
        "    if len(dni) < 8 or len(dni) > 9:\n",
        "        return False\n",
        "    \n",
        "    # Separamos los números de la letra\n",
        "    numeros = dni[:-1]\n",
        "    letra = dni[-1].upper()\n",
        "    \n",
        "    # Comprobamos que los primeros caracteres son números\n",
        "    if not numeros.isdigit():\n",
        "        return False\n",
        "    \n",
        "    # Comprobamos que la cantidad de números es correcta (7-8)\n",
        "    if len(numeros) < 7 or len(numeros) > 8:\n",
        "        return False\n",
        "    \n",
        "    # Calculamos la letra correspondiente\n",
        "    palabra = 'TRWAGMYFPDXBNJZSQVHLCKE'\n",
        "    letra_calculada = palabra[int(numeros) % 23]\n",
        "    \n",
        "    # Comprobamos si la letra calculada coincide con la proporcionada\n",
        "    return letra == letra_calculada\n",
        "\n",
        "dni_ejemplo = input(\"Introduce un DNI para verificar: \")\n",
        "if es_dni_valido(dni_ejemplo):\n",
        "     print(\"El DNI es válido\")\n",
        "else:\n",
        "     print(\"El DNI no es válido\")\n"
      ]
    },
    {
      "cell_type": "code",
      "execution_count": null,
      "metadata": {},
      "outputs": [],
      "source": []
    }
  ],
  "metadata": {
    "colab": {
      "provenance": []
    },
    "kernelspec": {
      "display_name": "Python 3",
      "language": "python",
      "name": "python3"
    },
    "language_info": {
      "codemirror_mode": {
        "name": "ipython",
        "version": 3
      },
      "file_extension": ".py",
      "mimetype": "text/x-python",
      "name": "python",
      "nbconvert_exporter": "python",
      "pygments_lexer": "ipython3",
      "version": "3.13.2"
    },
    "orig_nbformat": 4
  },
  "nbformat": 4,
  "nbformat_minor": 0
}
