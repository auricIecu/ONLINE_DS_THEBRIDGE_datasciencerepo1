{
  "cells": [
    {
      "cell_type": "markdown",
      "metadata": {
        "id": "vigJnuAMSU4x"
      },
      "source": [
        "![TheBridge_logo_RGB_color.jpg](attachment:TheBridge_logo_RGB_color.jpg)"
      ]
    },
    {
      "cell_type": "markdown",
      "metadata": {
        "id": "2xmnwM17SU4y"
      },
      "source": [
        "![ejercicios.png](attachment:ejercicios.png)"
      ]
    },
    {
      "cell_type": "markdown",
      "metadata": {
        "id": "liorA-1ZSU4y"
      },
      "source": [
        "# Ejercicios Clases y Objetos"
      ]
    },
    {
      "cell_type": "markdown",
      "metadata": {
        "id": "5xXUz5l9SU4z"
      },
      "source": [
        "## Ejercicio 1\n",
        "Somos una empresa que tiene varias tiendas de electrodomesticos. Necesitamos un programa para manejar las tiendas, ver las ventas que han tenido, cuántos empleados hay, etc... Para ello vamos a modelizar la tienda en una clase, que tendrá las siguientes características:\n",
        "* Nombre clase: \"Tienda\"\n",
        "* Atributos comunes:\n",
        "    * Tipo: \"Electrodomésticos\"\n",
        "    * Abierta: True\n",
        "* Atributos propios de cada tienda:\n",
        "    * Nombre - String\n",
        "    * Dirección - String\n",
        "    * Número de empleados - int\n",
        "    * Ventas ultimos 3 meses - Lista de 3 numeros\n",
        "* Método para calcular las ventas de todos los meses, que devuelva un numero con todas las ventas.\n",
        "* Método que calcula la media de ventas de los ultimos meses, por empleado\n",
        "* Método que devuelve en un string el nombre de la tienda, junto con su dirección.\n",
        "* Método que obtiene las ventas del último mes.\n",
        "* Método para dar una proyección de las ventas en caso de haber invertido X dinero en marketing en esa tienda. Siendo X el parámetro de entrada. Si X es menor de 1000, las ventas de los ultimos 3 meses hubiesen sido de (1.2 x ventas), si es mayor o igual de 1000, las ventas hubiesen sido de (1.5 x venta). El método reescribe el atributo de ventas en los últimos 3 meses, y además devuelve las ventas con el aumento.\n",
        "\n",
        "Se pide:\n",
        "1. Implementar la clase \"Tienda\"\n",
        "2. Crear tres tiendas con datos inventados\n",
        "3. Comprueba en al menos una de ellas, todo lo implementado en la clase tienda (sus atributos, media de ventas, ventas/empleado...)\n",
        "3. Calcular las ventas del último mes de todas las tiendas. Para ello usa el bucle `for`\n",
        "4. Imprime por pantalla los nombres de las tiendas cuya dirección lleve el string \"Avenida\"\n",
        "5. Seguro que ya has hecho este apartado... Documenta la clase :)"
      ]
    },
    {
      "cell_type": "code",
      "execution_count": 3,
      "metadata": {
        "id": "5cLQcLxfSU4z"
      },
      "outputs": [],
      "source": [
        "class Tienda:\n",
        "    tipo = \"Electrodomesticos\"\n",
        "    abierta = True\n",
        "\n",
        "    def __init__(self, nombre_tienda, direccion_tienda, numero_empleados, ventas_3_meses):\n",
        "        self.nombre = nombre_tienda\n",
        "        self.direccion = direccion_tienda\n",
        "        self.empleados = numero_empleados\n",
        "        self.ventas = ventas_3_meses\n",
        "    \n",
        "    def calcular_ventas(self):\n",
        "        return sum(self.ventas)\n",
        "    \n",
        "    def media_venta_empleado(self):\n",
        "        return sum(self.ventas)/self.empleados\n",
        "    \n",
        "    def tienda_y_direccion(self):\n",
        "        return \"Tienda: \" + self.nombre + \"Direccion: \" + self.direccion\n",
        "\n",
        "    def ventas_ultimo_mes(self):\n",
        "        return self.ventas[2] \n",
        "    \n",
        "    def proyeccion_ventas_marketing(self, X):\n",
        "       \n",
        "        if X < 1000:\n",
        "            factor = 1.2  # Aumento del 20%\n",
        "        else:\n",
        "            factor = 1.5  # Aumento del 50%\n",
        "        \n",
        "        # Actualizamos las ventas multiplicando cada valor por el factor\n",
        "        self.ventas = [venta * factor for venta in self.ventas]\n",
        "        return self.ventas\n",
        "    \n",
        "    \n"
      ]
    },
    {
      "cell_type": "code",
      "execution_count": 4,
      "metadata": {},
      "outputs": [
        {
          "name": "stdout",
          "output_type": "stream",
          "text": [
            "=== Comprobación de tienda1 ===\n",
            "Atributos comunes:\n",
            "Tipo: Electrodomesticos\n",
            "Abierta: True\n",
            "Atributos propios:\n",
            "Nombre: ElectroHogar\n",
            "Dirección: Avenida del Sol 45\n",
            "Empleados: 5\n",
            "Ventas originales: [1000, 1500, 2000]\n",
            "Métodos:\n",
            "Total ventas: 4500\n",
            "Media por empleado: 900.0\n",
            "Tienda: ElectroHogarDireccion: Avenida del Sol 45\n",
            "Ventas último mes: 2000\n",
            "Proyección con 500 en marketing: [1200.0, 1800.0, 2400.0]\n",
            "Ventas actualizadas: [1200.0, 1800.0, 2400.0]\n",
            "\n",
            "=== Ventas del último mes de todas las tiendas ===\n",
            "ElectroHogar: 2400.0\n",
            "TecnoShop: 1600\n",
            "HogarTech: 2400\n",
            "\n",
            "=== Tiendas en Avenida ===\n",
            "ElectroHogar\n",
            "HogarTech\n"
          ]
        }
      ],
      "source": [
        "tienda1 = Tienda(\"ElectroHogar\", \"Avenida del Sol 45\", 5, [1000, 1500, 2000])\n",
        "tienda2 = Tienda(\"TecnoShop\", \"Calle Luna 12\", 3, [800, 1200, 1600])\n",
        "tienda3 = Tienda(\"HogarTech\", \"Avenida Estrella 78\", 4, [1200, 1800, 2400])\n",
        "\n",
        "print(\"=== Comprobación de tienda1 ===\")\n",
        "print(\"Atributos comunes:\")\n",
        "print(f\"Tipo: {Tienda.tipo}\")\n",
        "print(f\"Abierta: {Tienda.abierta}\")\n",
        "print(\"Atributos propios:\")\n",
        "print(f\"Nombre: {tienda1.nombre}\")\n",
        "print(f\"Dirección: {tienda1.direccion}\")\n",
        "print(f\"Empleados: {tienda1.empleados}\")\n",
        "print(f\"Ventas originales: {tienda1.ventas}\")\n",
        "print(\"Métodos:\")\n",
        "print(f\"Total ventas: {tienda1.calcular_ventas()}\")\n",
        "print(f\"Media por empleado: {tienda1.media_venta_empleado()}\")\n",
        "print(tienda1.tienda_y_direccion())\n",
        "print(f\"Ventas último mes: {tienda1.ventas_ultimo_mes()}\")\n",
        "print(f\"Proyección con 500 en marketing: {tienda1.proyeccion_ventas_marketing(500)}\")\n",
        "print(f\"Ventas actualizadas: {tienda1.ventas}\")\n",
        "\n",
        "\n",
        "print(\"\\n=== Ventas del último mes de todas las tiendas ===\")\n",
        "tiendas = [tienda1, tienda2, tienda3]\n",
        "for tienda in tiendas:\n",
        "    ventas_ultimo = tienda.ventas_ultimo_mes()\n",
        "    print(f\"{tienda.nombre}: {ventas_ultimo}\")\n",
        "\n",
        "print(\"\\n=== Tiendas en Avenida ===\")\n",
        "for tienda in tiendas:\n",
        "    if \"Avenida\" in tienda.direccion:\n",
        "        print(tienda.nombre)\n"
      ]
    },
    {
      "cell_type": "markdown",
      "metadata": {
        "id": "WEBq7EpsSU40"
      },
      "source": [
        "## Ejercicio 2\n",
        "En este ejercicio vamos a implementar una clase *Perro* en Python. La clase tiene las siguientes características:\n",
        "* Cosas que sabemos seguro que tiene un perro\n",
        "    * Tiene 4 patas\n",
        "    * 2 orejas\n",
        "    * 2 ojos\n",
        "    * Una velocidad de 0. Por defecto, el perro está parado\n",
        "* Cuando se inicialice:\n",
        "    * El perro será de una determinada raza\n",
        "    * Por defecto tendrá pelo \"Marrón\", a no ser que se diga lo contrario.\n",
        "    * Por defecto no tendrá dueño, a no ser que se diga lo contrario.\n",
        "    \n",
        "* Dispondrá también de un método llamado andar, que tiene un argumento de entrada (aumento_velocidad). Este valor se le sumará a la velocidad que ya llevaba el perro.\n",
        "* Necesita otro método (parar), donde pondremos la velocidad a 0.\n",
        "* Otro método llamado \"ladrar\", que tendrá un argumento de entrada, y la salida será el siguiente string: \"GUAU!\" + el argumento de entrada.\n",
        "\n",
        "\n",
        "Se pide:\n",
        "* Implementa la clase *Perro*\n",
        "* Crea un objeto de tipo *Perro*, sin dueño\n",
        "* Comprueba que están bien todos sus atributos\n",
        "* Prueba que ande, y comprueba su velocidad\n",
        "* Páralo\n",
        "* Documenta la clase *Perro*"
      ]
    },
    {
      "cell_type": "code",
      "execution_count": 5,
      "metadata": {
        "id": "DpEWvbwGSU40"
      },
      "outputs": [],
      "source": [
        "class Perro:\n",
        "    patas = 4\n",
        "    orejas = 2\n",
        "    ojos = 2\n",
        "\n",
        "    def __init__(self, raza_perro, color_pelo = \"Marron\", dueno_existente = False):\n",
        "        self.raza = raza_perro\n",
        "        self.color = color_pelo\n",
        "        self.dueno = dueno_existente\n",
        "        self.velocidad = 0  # Velocidad como atributo de instancia, inicializada en 0\n",
        "\n",
        "    def andar(self, aumento_velocidad):\n",
        "        self.velocidad += aumento_velocidad\n",
        "\n",
        "    def parar(self):\n",
        "        self.velocidad = 0\n",
        "\n",
        "    def ladrar(self, argumento_entrada):\n",
        "        return \"GUAU!\" + argumento_entrada # Para que retorne el string se necesita el return\n",
        "\n",
        "    \n",
        "\n",
        "\n",
        "\n"
      ]
    },
    {
      "cell_type": "code",
      "execution_count": 6,
      "metadata": {},
      "outputs": [
        {
          "name": "stdout",
          "output_type": "stream",
          "text": [
            "=== Comprobación de atributos ===\n",
            "Atributos comunes:\n",
            "Patas: 4\n",
            "Orejas: 2\n",
            "Ojos: 2\n",
            "Atributos de instancia:\n",
            "Raza: Labrador\n",
            "Color: Marron\n",
            "Tiene dueño: False\n",
            "Velocidad inicial: 0\n",
            "\n",
            "=== Prueba de andar ===\n",
            "Velocidad tras andar: 7\n",
            "\n",
            "=== Prueba de parar ===\n",
            "Velocidad tras parar: 0\n"
          ]
        }
      ],
      "source": [
        "# 1. Crear un objeto de tipo Perro, sin dueño\n",
        "mi_perro = Perro(\"Labrador\")\n",
        "\n",
        "# 2. Comprobar todos sus atributos\n",
        "print(\"=== Comprobación de atributos ===\")\n",
        "print(\"Atributos comunes:\")\n",
        "print(f\"Patas: {Perro.patas}\")  # 4\n",
        "print(f\"Orejas: {Perro.orejas}\")  # 2\n",
        "print(f\"Ojos: {Perro.ojos}\")  # 2\n",
        "print(\"Atributos de instancia:\")\n",
        "print(f\"Raza: {mi_perro.raza}\")  # Labrador\n",
        "print(f\"Color: {mi_perro.color}\")  # Marrón (por defecto)\n",
        "print(f\"Tiene dueño: {mi_perro.dueno}\")  # False (por defecto)\n",
        "print(f\"Velocidad inicial: {mi_perro.velocidad}\")  # 0\n",
        "\n",
        "# 3. Probar que ande y comprobar su velocidad\n",
        "print(\"\\n=== Prueba de andar ===\")\n",
        "mi_perro.andar(7)\n",
        "print(f\"Velocidad tras andar: {mi_perro.velocidad}\")  # 7\n",
        "\n",
        "# 4. Pararlo\n",
        "print(\"\\n=== Prueba de parar ===\")\n",
        "mi_perro.parar()\n",
        "print(f\"Velocidad tras parar: {mi_perro.velocidad}\")  # 0"
      ]
    },
    {
      "cell_type": "code",
      "execution_count": null,
      "metadata": {},
      "outputs": [],
      "source": []
    }
  ],
  "metadata": {
    "colab": {
      "provenance": []
    },
    "kernelspec": {
      "display_name": "Python 3",
      "language": "python",
      "name": "python3"
    },
    "language_info": {
      "codemirror_mode": {
        "name": "ipython",
        "version": 3
      },
      "file_extension": ".py",
      "mimetype": "text/x-python",
      "name": "python",
      "nbconvert_exporter": "python",
      "pygments_lexer": "ipython3",
      "version": "3.13.2"
    }
  },
  "nbformat": 4,
  "nbformat_minor": 0
}
